{
  "nbformat": 4,
  "nbformat_minor": 0,
  "metadata": {
    "colab": {
      "name": "test.ipynb",
      "provenance": []
    },
    "kernelspec": {
      "name": "python3",
      "display_name": "Python 3"
    },
    "language_info": {
      "name": "python"
    }
  },
  "cells": [
    {
      "cell_type": "code",
      "metadata": {
        "id": "A1m-k3jM6OXv"
      },
      "source": [
        "# Importando las librerías que se van a utilizar\n",
        "import numpy as np\n",
        "import pandas as pd\n",
        "\n",
        "# Generando la clase elemento\n",
        "class Elemento:\n",
        "    '''\n",
        "    Cada elemento tiene los siguientes atributos:\n",
        "\n",
        "    | Nombre del Atributo       | Uso\n",
        "    |---------------------------|---------------------|\n",
        "    | Elemento                  | ```.elemento```     |\n",
        "    | Nombre                    | ```.nombre```       |\n",
        "    | Número Atómico            | ````.z````          |\n",
        "    | UMA                       | ````.uma````        |\n",
        "    | Periodo                   | ````.periodo````    |\n",
        "    | Grupo                     | ````.grp````        |\n",
        "    | Configuración Electrónica | ````.c_electron```` |\n",
        "    | Protones                  | ````.protones````   |\n",
        "    | Electrones                | ````.electrones```` |\n",
        "    | Neutrones                 | ```.neutrones```    |\n",
        "\n",
        "    Llamamos al elemento por su símbolo.\n",
        "\n",
        "    Ejemplo de uso:\n",
        "\n",
        "    ```python\n",
        "    from libs import elementos\n",
        "    elementos.He.nombre\n",
        "    ```\n",
        "\n",
        "    Nos daría: ```\"Helio\"``` \n",
        "    '''\n",
        "    def __init__(self, elemento, nombre, z, uma, periodo, grp, c_electron, protones, electrones,neutrones): # Genera el constructor que apsa los valores dentro de la clase\n",
        "        self.elemento = elemento\n",
        "        self.nombre = nombre\n",
        "        self.z = z\n",
        "        self.uma = uma\n",
        "        self.periodo = periodo\n",
        "        self.grp = grp\n",
        "        self.c_electron = c_electron\n",
        "        self.protones = protones\n",
        "        self.electrones = electrones\n",
        "        self.neutrones = neutrones\n",
        "\n",
        "    def imprimirElemento(self): # En esta función se imprimen los datos del elemento \n",
        "        '''\n",
        "        Imprime un resumen del elemento\n",
        "\n",
        "        Ejemplo:\n",
        "\n",
        "        ```python\n",
        "        from libs import elementos\n",
        "        elementos.He.imprimirElemento()\n",
        "        ```\n",
        "        ```python\n",
        "        Elemento: He\n",
        "        Nombre: Helio\n",
        "        Número Atómico: 2\n",
        "        UMA: 4.002\n",
        "        Periodo: 1\n",
        "        Grupo: 18\n",
        "        Configuración Electrónica:  1s2\n",
        "        Protones: 2\n",
        "        Electrones 2\n",
        "        Neutrones: 2.0\n",
        "        ```\n",
        "        '''\n",
        "        print(\"Elemento:\", self.elemento)\n",
        "        print(\"Nombre:\", self.nombre)\n",
        "        print(\"Número Atómico:\", self.z)\n",
        "        print(\"UMA:\", self.uma)\n",
        "        print(\"Periodo:\", self.periodo)\n",
        "        print(\"Grupo:\", self.grp)\n",
        "        print(\"Configuración Electrónica:\", self.c_electron)\n",
        "        print(\"Protones:\", self.protones)\n",
        "        print(\"Electrones\", self.electrones)\n",
        "        print(\"Neutrones:\", self.neutrones)\n",
        "        \n",
        "    def getElemento(self):\n",
        "        '''\n",
        "        Regresa un diccionario conteniendo todos los atributos del elemento.\n",
        "        \n",
        "        Ejemplo:\n",
        "        ```python\n",
        "        from libs import elementos\n",
        "        elementos.He.getElemento()\n",
        "        ```\n",
        "\n",
        "        ```python\n",
        "        {'Elemento': 'He', 'Nombre': 'Helio', 'Z': 2, 'UMA': 4.002, 'Periodo': 1, 'Grupo': '18', 'C_Electronica': ' 1s2', 'Protones': 2, 'Electrones': 2, 'Neutrones': 2.0}   \n",
        "        ```\n",
        "        '''\n",
        "         # Devuelve el valor del elemento dentro de un diccionario\n",
        "        return {\"Elemento\":self.elemento , \"Nombre\":self.nombre, \"Z\":self.z, \"UMA\":self.uma, \"Periodo\":self.periodo, \"Grupo\":self.grp, \"C_Electronica\":self.c_electron,\"Protones\":self.protones,\"Electrones\":self.electrones, \"Neutrones\":self.neutrones}\n"
      ],
      "execution_count": null,
      "outputs": []
    },
    {
      "cell_type": "code",
      "metadata": {
        "id": "oz4EJiSv6zYZ"
      },
      "source": [
        "def imprimirTabla(): # Esta función sirve apra imprimir la tabla periódica\n",
        "    '''\n",
        "    Imprime la tabla periódica a la consola.\n",
        "    '''\n",
        "    Tabla = '''\n",
        "          -----                                                               -----\n",
        "        1 | H |                                                               |He |\n",
        "        |---+----                                       --------------------+---|\n",
        "        2 |Li |Be |                                       | B | C | N | O | F |Ne |\n",
        "        |---+---|                                       |---+---+---+---+---+---|\n",
        "        3 |Na |Mg |3B  4B  5B  6B  7B |    8B     |1B  2B |Al |Si | P | S |Cl |Ar |\n",
        "        |---+---+---------------------------------------+---+---+---+---+---+---|\n",
        "        4 | K |Ca |Sc |Ti | V |Cr |Mn |Fe |Co |Ni |Cu |Zn |Ga |Ge |As |Se |Br |Kr |\n",
        "        |---+---+---+---+---+---+---+---+---+---+---+---+---+---+---+---+---+---|\n",
        "        5 |Rb |Sr | Y |Zr |Nb |Mo |Tc |Ru |Rh |Pd |Ag |Cd |In |Sn |Sb |Te | I |Xe |\n",
        "        |---+---+---+---+---+---+---+---+---+---+---+---+---+---+---+---+---+---|\n",
        "        6 |Cs |Ba |LAN|Hf |Ta | W |Re |Os |Ir |Pt |Au |Hg |Tl |Pb |Bi |Po |At |Rn |\n",
        "        |---+---+---+------------------------------------------------------------\n",
        "        7 |Fr |Ra |ACT|\n",
        "        -------------\n",
        "                    -------------------------------------------------------------\n",
        "        Lantánidos |La |Ce |Pr |Nd |Pm |Sm |Eu |Gd |Tb |Dy |Ho |Er |Tm |Yb |Lu |\n",
        "                    |---+---+---+---+---+---+---+---+---+---+---+---+---+---+---|\n",
        "        Actínidos  |Ac |Th |Pa | U |Np |Pu |Am |Cm |Bk |Cf |Es |Fm |Md |No |Lw |\n",
        "                    -------------------------------------------------------------\n",
        "        '''  \n",
        "    print(Tabla)\n",
        "\n",
        "# Generando las instancias de cada elemento con sus datos y constantes usando el InstanciadorMAX\n",
        "# El órden de los argumentos son los siguientes: elemento, nombre, z, uma, periodo, grp, c_electron, protones, electrones, neutrones\n",
        "H=Elemento(\"H\",\"Hidrogeno\",1,1.007,1,\"1\",\" 1s1\",1,1,0.0)\n",
        "He=Elemento(\"He\",\"Helio\",2,4.002,1,\"18\",\" 1s2\",2,2,2.0)\n",
        "Li=Elemento(\"Li\",\"Litio\",3,6.941,2,\"1\",\" [He] 2s1\",3,3,4.0)\n",
        "Be=Elemento(\"Be\",\"Berilio\",4,9.012,2,\"2\",\" [He] 2s2\",4,4,5.0)\n",
        "B=Elemento(\"B\",\"Boro\",5,10.81,2,\"13\",\" [He] 2s2 2p1 \",5,5,6.0)\n",
        "C=Elemento(\"C\",\"Carbono\",6,12.01,2,\"14\",\" [He] 2s2 2p2\",6,6,6.0)\n",
        "N=Elemento(\"N\",\"Nitrogeno\",7,14.0,2,\"15\",\" [He] 2s2 2p3\",7,7,7.0)\n",
        "O=Elemento(\"O\",\"Oxigeno\",8,15.99,2,\"16\",\" [He] 2s2 2p4\",8,8,8.0)\n",
        "F=Elemento(\"F\",\"Fluor\",9,18.99,2,\"17\",\" [He] 2s2 2p5 \",9,9,10.0)\n",
        "Ne=Elemento(\"Ne\",\"Neon\",10,20.17,2,\"18\",\" [He] 2s2 2p6 \",10,10,10.0)\n",
        "Na=Elemento(\"Na\",\"Sodio\",11,22.98,3,\"1\",\" [Ne] 3s1 \",11,11,12.0)\n",
        "Mg=Elemento(\"Mg\",\"Magnesio\",12,24.3,3,\"2\",\" [Ne] 3s2 \",12,12,12.0)\n",
        "Al=Elemento(\"Al\",\"Aluminio\",13,26.98,3,\"13\",\" [Ne] 3s2 3p1 \",13,13,14.0)\n",
        "Si=Elemento(\"Si\",\"Silicio\",14,28.08,3,\"14\",\" [Ne] 3s2 3p2 \",14,14,14.0)\n",
        "P=Elemento(\"P\",\"Fosforo\",15,30.97,3,\"15\",\" [Ne] 3s2 3p3 \",15,15,16.0)\n",
        "S=Elemento(\"S\",\"Azufre\",16,32.06,3,\"16\",\" [Ne] 3s2 3p4 \",16,16,16.0)\n",
        "Cl=Elemento(\"Cl\",\"Cloro\",17,35.45,3,\"17\",\" [Ne] 3s2 3p5 \",17,17,18.0)\n",
        "Ar=Elemento(\"Ar\",\"Argon\",18,39.94,3,\"18\",\" [Ne] 3s2 3p6 \",18,18,22.0)\n",
        "K=Elemento(\"K\",\"Potasio\",19,39.09,4,\"1\",\" [Ar] 4s1 \",19,19,20.0)\n",
        "Ca=Elemento(\"Ca\",\"Calcio\",20,40.07,4,\"2\",\" [Ar] 4s1 \",20,20,20.0)\n",
        "Sc=Elemento(\"Sc\",\"Escandio\",21,44.95,4,\"3\",\" [Ar] 3d1 4s2 \",21,21,24.0)\n",
        "Ti=Elemento(\"Ti\",\"Titanio\",22,47.86,4,\"4\",\" [Ar] 3d2 4s2 \",22,22,26.0)\n",
        "Va=Elemento(\"Va\",\"Vanadio\",23,50.94,4,\"5\",\" [Ar] 3d3 4s2 \",23,23,28.0)\n",
        "Cr=Elemento(\"Cr\",\"Cromo\",24,51.99,4,\"6\",\" [Ar] 3d5 4s1 \",24,24,28.0)\n",
        "Mn=Elemento(\"Mn\",\"Manganeso\",25,54.93,4,\"7\",\" [Ar] 3d5 4s2 \",25,25,30.0)\n",
        "Fe=Elemento(\"Fe\",\"Hierro\",26,55.84,4,\"8\",\" [Ar] 3d6 4s2 \",26,26,30.0)\n",
        "Co=Elemento(\"Co\",\"Cobalto\",27,58.93,4,\"9\",\" [Ar] 3d7 4s2 \",27,27,32.0)\n",
        "Ni=Elemento(\"Ni\",\"Niquel\",28,58.69,4,\"10\",\" [Ar] 3d8 4s2 \",28,28,31.0)\n",
        "Cu=Elemento(\"Cu\",\"Cobre\",29,63.54,4,\"11\",\" [Ar] 3d10 4s1 \",29,29,35.0)\n",
        "Zn=Elemento(\"Zn\",\"Zinc\",30,65.4,4,\"12\",\" [Ar] 3d10 4s2 \",30,30,35.0)\n",
        "Ga=Elemento(\"Ga\",\"Galio\",31,69.72,4,\"13\",\" [Ar] 3d10 4s2 4p1 \",31,31,39.0)\n",
        "Ge=Elemento(\"Ge\",\"Germanio\",32,72.64,4,\"14\",\" [Ar] 3d10 4s2 4p2 \",32,32,41.0)\n",
        "As=Elemento(\"As\",\"Arsenico\",33,74.92,4,\"15\",\" [Ar] 3d10 4s2 4p3 \",33,33,42.0)\n",
        "Se=Elemento(\"Se\",\"Selenio\",34,78.96,4,\"16\",\" [Ar] 3d10 4s2 4p4 \",34,34,45.0)\n",
        "Br=Elemento(\"Br\",\"Bromo\",35,79.9,4,\"17\",\" [Ar] 3d10 4s2 4p5 \",35,35,45.0)\n",
        "Kr=Elemento(\"Kr\",\"Kripton\",36,83.79,4,\"18\",\" [Ar] 3d10 4s2 4p6 \",36,36,48.0)\n",
        "Rb=Elemento(\"Rb\",\"Rubidio\",37,85.46,5,\"1\",\" [Kr] 5s1 \",37,37,48.0)\n",
        "Sr=Elemento(\"Sr\",\"Estroncio\",38,87.62,5,\"2\",\" [Kr] 5s2 \",38,38,50.0)\n",
        "Y=Elemento(\"Y\",\"Itrio\",39,88.9,5,\"3\",\" [Kr] 4d1 5s2 \",39,39,50.0)\n",
        "Zr=Elemento(\"Zr\",\"Circonio\",40,91.22,5,\"4\",\" [Kr] 4d2 5s2 \",40,40,51.0)\n",
        "Nb=Elemento(\"Nb\",\"Niobio\",41,92.9,5,\"5\",\" [Kr] 4d4 5s1 \",41,41,52.0)\n",
        "Mo=Elemento(\"Mo\",\"Molibdeno\",42,95.94,5,\"6\",\" [Kr] 4d5 5s1 \",42,42,54.0)\n",
        "Tc=Elemento(\"Tc\",\"Tecnecio\",43,98.9,5,\"7\",\" [Kr] 4d6 5s1 \",43,43,56.0)\n",
        "Ru=Elemento(\"Ru\",\"Rutenio\",44,101.0,5,\"8\",\" [Kr] 4d7 5s1 \",44,44,57.0)\n",
        "Rh=Elemento(\"Rh\",\"Rodio\",45,102.9,5,\"9\",\" [Kr] 4d8 5s1 \",45,45,58.0)\n",
        "Pd=Elemento(\"Pd\",\"Paladio\",46,106.4,5,\"10\",\" [Kr] 4d10 \",46,46,60.0)\n",
        "Ag=Elemento(\"Ag\",\"Plata\",47,107.8,5,\"11\",\" [Kr] 4d10 5s1 \",47,47,61.0)\n",
        "Cd=Elemento(\"Cd\",\"Cadmio\",48,112.4,5,\"12\",\" [Kr] 4d10 5s2 \",48,48,64.0)\n",
        "In=Elemento(\"In\",\"Indio\",49,114.8,5,\"13\",\" [Kr] 4d10 5s2 5p1 \",49,49,66.0)\n",
        "Sn=Elemento(\"Sn\",\"Estano\",50,118.7,5,\"14\",\" [Kr] 4d10 5s2 5p2 \",50,50,69.0)\n",
        "Sb=Elemento(\"Sb\",\"Antimonio\",51,121.7,5,\"15\",\" [Kr] 4d10 5s2 5p3 \",51,51,71.0)\n",
        "Te=Elemento(\"Te\",\"Teluro\",52,127.6,5,\"16\",\" [Kr] 4d10 5s2 5p4 \",52,52,76.0)\n",
        "I=Elemento(\"I\",\"Yodo\",53,126.9,5,\"17\",\" [Kr] 4d10 5s2 5p5 \",53,53,74.0)\n",
        "Xe=Elemento(\"Xe\",\"Xenon\",54,131.2,5,\"18\",\" [Kr] 4d10 5s2 5p6 \",54,54,77.0)\n",
        "Cs=Elemento(\"Cs\",\"Cesio\",55,132.9,6,\"1\",\" [Xe] 6s1\",55,55,78.0)\n",
        "Ba=Elemento(\"Ba\",\"Bario\",56,137.3,6,\"2\",\" [Xe] 6s2\",56,56,81.0)\n",
        "La=Elemento(\"La\",\"Lantano\",57,138.9,6,\"-\",\" [Xe] 5d1 6s2\",57,57,82.0)\n",
        "Ce=Elemento(\"Ce\",\"Cerio\",58,140.1,6,\"-\",\" [Xe] 4f2 6s2\",58,58,82.0)\n",
        "Pr=Elemento(\"Pr\",\"Praseodimio\",59,140.9,6,\"-\",\" [Xe] 4f3 6s2\",59,59,82.0)\n",
        "Nd=Elemento(\"Nd\",\"Neodimio\",60,144.2,6,\"-\",\" [Xe] 4f4 6s2\",60,60,84.0)\n",
        "Pm=Elemento(\"Pm\",\"Prometio\",61,146.9,6,\"-\",\" [Xe] 4f5 6s2\",61,61,86.0)\n",
        "Sm=Elemento(\"Sm\",\"Samario\",62,150.3,6,\"-\",\" [Xe] 4f6 6s2\",62,62,88.0)\n",
        "Eu=Elemento(\"Eu\",\"Europio\",63,151.9,6,\"-\",\" [Xe] 4f7 6s2\",63,63,89.0)\n",
        "Gd=Elemento(\"Gd\",\"Gadolin\",64,157.2,6,\"-\",\" [Xe] 4f7 6s2\",64,64,93.0)\n",
        "Tb=Elemento(\"Tb\",\"Terbio\",65,158.9,6,\"-\",\" [Xe] 4f9 6s2\",65,65,94.0)\n",
        "Dy=Elemento(\"Dy\",\"Disprosio\",66,162.5,6,\"-\",\" [Xe] 4f10 6s2\",66,66,96.0)\n",
        "Ho=Elemento(\"Ho\",\"Holmio\",67,164.9,6,\"-\",\" [Xe] 4f11 6s2\",67,67,98.0)\n",
        "Er=Elemento(\"Er\",\"Erbio\",68,167.2,6,\"-\",\" [Xe] 4f12 6s2\",68,68,99.0)\n",
        "Tm=Elemento(\"Tm\",\"Tulio\",69,168.9,6,\"-\",\" [Xe] 4f13 6s2\",69,69,100.0)\n",
        "Yb=Elemento(\"Yb\",\"Iterbio\",70,173.0,6,\"-\",\" [Xe] 4f14 6s2\",70,70,103.0)\n",
        "Lu=Elemento(\"Lu\",\"Lutecio\",71,174.9,6,\"3\",\" [Xe] 4f14 5d1 6s2\",71,71,104.0)\n",
        "Hf=Elemento(\"Hf\",\"Hafnio\",72,178.4,6,\"4\",\" [Xe] 4f14 5d2 6s2\",72,72,106.0)\n",
        "Ta=Elemento(\"Ta\",\"Tantalio\",73,180.9,6,\"5\",\" [Xe] 4f14 5d3 6s2\",73,73,108.0)\n",
        "W=Elemento(\"W\",\"Wolframio\",74,183.8,6,\"6\",\" [Xe] 4f14 5d4 6s2\",74,74,110.0)\n",
        "Re=Elemento(\"Re\",\"Renio\",75,186.2,6,\"7\",\" [Xe] 4f14 5d5 6s2\",75,75,111.0)\n",
        "Os=Elemento(\"Os\",\"Osmio\",76,190.2,6,\"8\",\" [Xe] 4f14 5d6 6s2\",76,76,114.0)\n",
        "Ir=Elemento(\"Ir\",\"Iridio\",77,192.2,6,\"9\",\" [Xe] 4f14 5d7 6s2\",77,77,115.0)\n",
        "Pt=Elemento(\"Pt\",\"Platino\",78,195.0,6,\"10\",\" [Xe] 4f14 5d9 6s1\",78,78,117.0)\n",
        "Au=Elemento(\"Au\",\"Oro\",79,196.9,6,\"11\",\" [Xe] 4f14 5d10 6s1\",79,79,118.0)\n",
        "Hg=Elemento(\"Hg\",\"Mercurio\",80,200.5,6,\"12\",\" [Xe] 4f14 5d10 6s2\",80,80,120.0)\n",
        "Tl=Elemento(\"Tl\",\"Talio\",81,204.3,6,\"13\",\" [Xe] 4f14 5d10 6s2 6p1\",81,81,123.0)\n",
        "Pb=Elemento(\"Pb\",\"Plomo\",82,207.2,6,\"14\",\" [Xe] 4f14 5d10 6s2 6p2\",82,82,125.0)\n",
        "Bi=Elemento(\"Bi\",\"Bismuto\",83,208.9,6,\"15\",\" [Xe] 4f14 5d10 6s2 6p3\",83,83,126.0)\n",
        "Po=Elemento(\"Po\",\"Polonio\",84,208.9,6,\"16\",\" [Xe] 4f14 5d10 6s2 6p4\",84,84,125.0)\n",
        "At=Elemento(\"At\",\"Astato\",85,209.9,6,\"17\",\" [Xe] 4f14 5d10 6s2 6p5\",85,85,125.0)\n",
        "Rn=Elemento(\"Rn\",\"Radon\",86,222.0,6,\"18\",\" [Xe] 4f14 5d10 6s2 6p6\",86,86,136.0)\n",
        "Fr=Elemento(\"Fr\",\"Francio\",87,223.0,7,\"1\",\" [Rn] 7s1 \",87,87,136.0)\n",
        "Ra=Elemento(\"Ra\",\"Radio\",88,226.0,7,\"2\",\" [Rn] 7s2 \",88,88,138.0)\n",
        "Ac=Elemento(\"Ac\",\"Actinio\",89,227.0,7,\"-\",\" [Rn] 6d1 7s2 \",89,89,138.0)\n",
        "Th=Elemento(\"Th\",\"Torio\",90,232.0,7,\"-\",\" [Rn] 6d2 7s2 \",90,90,142.0)\n",
        "Pa=Elemento(\"Pa\",\"Protactinio\",91,231.0,7,\"-\",\" [Rn] 5f2 6d1 7s2 \",91,91,140.0)\n",
        "U=Elemento(\"U\",\"Uranio\",92,238.0,7,\"-\",\" [Rn] 5f3 6d1 7s2 \",92,92,146.0)\n",
        "Np=Elemento(\"Np\",\"Neptunio\",93,237.0,7,\"-\",\" [Rn] 5f4 6d1 7s2 \",93,93,144.0)\n",
        "Pu=Elemento(\"Pu\",\"Plutonio\",94,244.0,7,\"-\",\" [Rn] 5f6 7s2 \",94,94,150.0)\n",
        "Am=Elemento(\"Am\",\"Americio\",95,243.0,7,\"-\",\" [Rn] 5f7 7s2 \",95,95,148.0)\n",
        "Cm=Elemento(\"Cm\",\"Curio\",96,247.0,7,\"-\",\" [Rn] 5f7 6d1 7s2 \",96,96,151.0)\n",
        "Bk=Elemento(\"Bk\",\"Berkelio\",97,247.0,7,\"-\",\" [Rn] 5f9 7s2 \",97,97,150.0)\n",
        "Cf=Elemento(\"Cf\",\"Californio\",98,251.0,7,\"-\",\" [Rn] 5f10 7s2 \",98,98,153.0)\n",
        "Es=Elemento(\"Es\",\"Einstenio\",99,252.0,7,\"-\",\" [Rn] 5f11 7s2 \",99,99,153.0)\n",
        "Fm=Elemento(\"Fm\",\"Fermio\",100,257.0,7,\"-\",\" [Rn] 5f12 7s2 \",100,100,157.0)\n",
        "Md=Elemento(\"Md\",\"Mendelevio\",101,258.0,7,\"-\",\" [Rn] 5f13 7s2 \",101,101,157.0)\n",
        "No=Elemento(\"No\",\"Nobelio\",102,259.1,7,\"-\",\" [Rn] 5f14 7s2 \",102,102,157.0)\n",
        "Lr=Elemento(\"Lr\",\"Laurencio\",103,260.1,7,\"3\",\" [Rn] 5f14 6d1 7s2\",103,103,157.0)\n",
        "Rf=Elemento(\"Rf\",\"Rutherfordio\",104,261.1,7,\"4\",\" [Rn] 5f14 6d2 7s2\",104,104,157.0)\n",
        "Db=Elemento(\"Db\",\"Dubnio\",105,262.1,7,\"5\",\" [Rn] 5f14 6d3 7s2\",105,105,157.0)\n",
        "Sg=Elemento(\"Sg\",\"Seaborgio\",106,263.1,7,\"6\",\" [Rn] 5f14 6d4 7s2\",106,106,157.0)\n",
        "Bh=Elemento(\"Bh\",\"Bohrio\",107,262.1,7,\"7\",\" [Rn] 5f14 6d5 7s2\",107,107,155.0)\n",
        "Hs=Elemento(\"Hs\",\"Hassio\",108,265.0,7,\"8\",\" [Rn] 5f14 6d6 7s2\",108,108,157.0)\n",
        "Mt=Elemento(\"Mt\",\"Meitnerio\",109,266.0,7,\"9\",\" [Rn] 5f14 6d7 7s2\",109,109,157.0)\n",
        "Ds=Elemento(\"Ds\",\"Darmstadtio\",110,269.0,7,\"10\",\" [Rn] 5f14 6d9 7s1\",110,110,159.0)\n",
        "Rg=Elemento(\"Rg\",\"Roentgenio\",111,272.0,7,\"11\",\" [Rn] 5f14 6d10 7s1\",111,111,161.0)\n",
        "Cn=Elemento(\"Cn\",\"Copernicio\",112,285.0,7,\"12\",\" [Rn] 5f14 6d10 7s2\",112,112,173.0)\n",
        "Nh=Elemento(\"Nh\",\"Nihonio\",113,284.0,7,\"13\",\" [Rn] 5f14 6d10 7s2 7p1\",113,113,171.0)\n",
        "Fl=Elemento(\"Fl\",\"Flerovio\",114,289.0,7,\"14\",\" [Rn] 5f14 6d10 7s2 7p2\",114,114,175.0)\n",
        "Mc=Elemento(\"Mc\",\"Moscovio\",115,288.0,7,\"15\",\" [Rn] 5f14 6d10 7s2 7p3\",115,115,173.0)\n",
        "Lv=Elemento(\"Lv\",\"Livermorio\",116,290.0,7,\"16\",\" [Rn] 5f14 6d10 7s2 7p4\",116,116,174.0)\n",
        "Ts=Elemento(\"Ts\",\"Tenesino\",117,0,7,\"17\",\" [Rn] 5f14 6d10 7s2 7p5\",117,117,0)\n",
        "Og=Elemento(\"Og\",\"Oganeson\",118,294.0,7,\"18\",\" [Rn] 5f14 6d10 7s2 7p6\",118,118,176.0)"
      ],
      "execution_count": null,
      "outputs": []
    },
    {
      "cell_type": "code",
      "metadata": {
        "id": "V0GaOEAf61q-"
      },
      "source": [
        "# Importando las librerías auxiliares\n",
        "import math\n",
        "import re\n",
        "import numpy as np\n",
        "\n",
        "# En esta sección, se va a incluir un diccionario con todas las unidades de masa atómica de todos los elementos de la tabla\n",
        "uma_dc = {\"H\": 1.008,\"He\": 4.003,\"Li\": 6.94 ,\"Be\": 9.012,\"B\": 10.81,\"C\": 12.011,\"N\": 14.007,\"O\": 15.999,\"F\": 18.998,\n",
        "    \"Ne\": 20.180,\"Na\": 22.990,\"Mg\": 24.305,\"Al\": 26.982,\"Si\": 28.085,\"P\": 30.974,\"S\": 32.06,\"Cl\": 35.45,\"Ar\": 39.95,\"K\": 39.098,\"Ca\": 40.078,\n",
        "    \"Sc\": 44.956 ,\"Ti\": 47.867,\"V\": 50.942,\"Cr\": 51.996,\"Mn\": 54.938,\"Fe\": 55.845,\"Co\": 58.933 ,\"Ni\": 58.693,\"Cu\": 63.546,\n",
        "    \"Zn\": 65.38,\"Ga\": 69.723,\"Ge\": 72.630,\"As\": 74.922,\"Se\": 78.971,\"Br\": 79.904,\"Kr\": 83.798,\"Rb\": 85.468,\"Sr\": 87.62,\"Y\": 88.906,\"Zr\": 91.224,\n",
        "    \"Nb\": 92.906,\"Mo\": 95.95,\"Tc\": 98,\"Ru\": 101.07,\"Rh\": 102.906,\"Pd\": 106.42,\"Ag\": 107.868,\"Cd\": 112.414,\n",
        "    \"In\": 114.818,\"Sn\": 118.710,\"Sb\": 121.76,\"Te\": 127.6,\"I\": 126.904,\"Xe\": 131.293,\"Cs\": 132.905,\"Ba\": 137.327,\"La\": 138.905,\n",
        "    \"Ce\": 140.116,\"Pr\": 140.908,\"Nd\": 144.242,\"Pm\": 147,\"Sm\": 150.36,\"Eu\": 151.964,\"Gd\": 157.25,\"Tb\": 158.925,\"Dy\": 163.5,\n",
        "    \"Ho\": 164.93,\"Er\": 167.259,\"Tm\": 168.934,\"Yb\": 173.045,\"Lu\": 174.967,\n",
        "    \"Hf\": 178.486,\"Ta\": 180.948,\"W\": 183.84,\"Re\": 186.207,\"Os\": 190.23,\"Ir\": 192.217 ,\"Pt\": 195,\"Au\": 197,\n",
        "    \"Hg\": 201,\"Tl\": 204,\"Pb\": 207,\"Bi\": 209,\"Po\": 210,\"At\": 210,\"Rn\": 222,\"Fr\": 223,\n",
        "    \"Ra\": 226,\"Ac\": 227,\"Th\": 232,\"Pa\": 231,\"U\": 238,\"Np\": 237,\"Pu\": 242,\n",
        "    \"Am\": 293,\"Cm\": 247,\"Bk\": 247,\"Cf\": 251,\"Es\": 254,\"Fm\": 257,\n",
        "    \"Md\": 258,\"No\": 259,\"Lr\": 262,\"Rf\": 261,\"Ha\": 262,\"Nt\": 263,\"Gp\": 264,\"Hr\": 265,\"Wl\": 266,\n",
        "    \"Mv\": 269,\"Pl\": 272,\"Da\": 270,\"Tf\": 272,\"Eo\": 276,\"Me\": 279,\"Nc\": 282,\"El\": 286,\"On\": 288\n",
        "}\n",
        "# En esta variable, se almacena el diccionario de números atómicos de cada elemento de la tabla\n",
        "Z = {\n",
        "    \"H\": 1,\"He\": 2, \"Li\": 3, \"Be\": 4, \"B\": 5, \"C\": 6, \"N\": 7, \"O\": 8, \"F\": 9, \"Ne\": 10, \"Na\": 11,\n",
        "    \"Mg\": 12, \"Al\": 13, \"Si\": 14, \"P\": 15, \"S\": 16, \"Cl\": 17, \"Ar\": 18, \"K\": 19, \"Ca\": 20,\"Sc\": 21,\"Ti\": 22,\"V\": 23,\"Cr\": 24,\"Mn\": 25,\n",
        "    \"Fe\": 26,\"Co\": 27,\"Ni\": 28,\"Cu\": 29,\"Zn\": 30,\"Ga\": 31,\"Ge\": 32,\"As\": 33,\"Se\": 34,\"Br\": 35,\"Kr\": 36, \"Rb\": 37,\n",
        "    \"Sr\": 38,\"Y\": 39,\"Zr\": 40,\"Nb\": 41,\"Mo\": 42,\"Tc\": 43,\"Ru\": 44,\"Rh\": 45,\"Pd\": 46,\"Ag\": 47,\"Cd\": 48,\"In\": 49,\"Sn\": 50,\n",
        "    \"Sb\": 51,\"Te\": 52,\"I\": 53,\"Xe\": 54,\"Cs\": 55,\"Ba\": 56,\"La\": 57,\"Ce\": 58,\"Pr\": 59,\"Nd\": 60,\"Pm\": 61,\"Sm\": 62,\"Eu\": 63,\"Gd\": 64,\n",
        "    \"Tb\": 65,\"Dy\": 66,\"Ho\": 67,\"Er\": 68,\"Tm\": 69,\"Yb\": 70,\"Lu\": 71,\"Hf\": 72,\"Ta\": 73,\"W\": 74,\"Re\": 75,\"Os\": 76,\n",
        "    \"Ir\": 77,\"Pt\": 78,\"Au\": 79,\"Hg\": 80,\"Tl\": 81,\"Pb\": 82,\"Bi\": 83,\"Po\": 84,\"At\": 85,\"Rn\": 86,\"Fr\": 87,\"Ra\": 88,\"Ac\": 89,\n",
        "    \"Th\": 90,\"Pa\": 91,\"U\": 92,\"Np\": 93,\"Pu\": 94,\"Am\": 95,\"Cm\": 96,\"Bk\": 97,\"Cf\": 98,\"Es\": 99,\n",
        "    \"Fm\": 100,\"Md\": 101,\"No\": 102,\"Lr\": 103,\"Rf\": 104,\"Ha\": 105,\"Nt\": 106,\"Gp\": 107,\n",
        "    \"Hr\": 108,\"Wl\": 109,\"Mv\": 110,\"Pl\": 111,\"Da\": 112,\"Tf\": 113,\"Eo\": 114,\"Me\": 115,\"Nc\": 116,\"El\": 117,\"On\": 118\n",
        "}"
      ],
      "execution_count": null,
      "outputs": []
    },
    {
      "cell_type": "code",
      "metadata": {
        "id": "Eg8-1prB61j_"
      },
      "source": [
        "# En esta función, se toma un compuesto y se divide en sus elementos\n",
        "def _cosplit(compuesto):\n",
        "    '''\n",
        "    Parser de ecuaciones químicas basado en regex. \n",
        "    '''\n",
        "    com = compuesto.split(' ') # Separa el compuesto en secciones\n",
        "    div = [] # Inicia una lista llamada 'div'\n",
        "    for i in range(len(com)): # Por cada sección\n",
        "        a = re.findall('[A-Z][a-z]?|[0-9]+', com[i]) # Obtiene el elemento y su cantidad de átomos en una lista\n",
        "        div.append(a) # Añade la lista [elemento, número de átomos] a la lista div\n",
        "    return div # Regresa la lista de divisiones"
      ],
      "execution_count": null,
      "outputs": []
    },
    {
      "cell_type": "code",
      "metadata": {
        "id": "3Ri2jVuP61c_"
      },
      "source": [
        "# Convierte números enteros para su uso dentro de las funciones químicas\n",
        "def _intconv(num): \n",
        "    '''\n",
        "    Intenta convertir números a enteros. Auxiliar en el algoritmo de reconocimiento de fórmulas químicas.\n",
        "    '''\n",
        "    try: # Intenta hacer la conversión\n",
        "        n = int(num)\n",
        "        return n\n",
        "    except: # De lo contrario, continúa con el programa\n",
        "        pass"
      ],
      "execution_count": null,
      "outputs": []
    },
    {
      "cell_type": "code",
      "metadata": {
        "id": "D4Oqt1U-69rK"
      },
      "source": [
        "# Obtiene la uma de un elemento determinado\n",
        "def _umaelemento(elemento):\n",
        "    '''\n",
        "    Checa la UMA de un elemento en el contenedor.   \n",
        "    '''\n",
        "    check = elemento\n",
        "    try: # Intenta utilizar el valor introducido\n",
        "        if str(check) in uma_dc: # Revisa si el valor existe dentro del diccionario\n",
        "            umaa = uma_dc.get(check) # Asigna el valor correspondiente\n",
        "            return umaa # Regresa el valor\n",
        "        else: # De no encontrarlo, el programa sigue\n",
        "            print(\"Valor no encontrado\")\n",
        "    except: # De haber algun error, levanta un mensaje de error\n",
        "        print(\"Revise su sintaxis\")\n",
        "\n"
      ],
      "execution_count": null,
      "outputs": []
    },
    {
      "cell_type": "code",
      "metadata": {
        "id": "s-wdr6wg69mp"
      },
      "source": [
        "# Obtiene la uma de un compuesto determinado\n",
        "def umacompuesto(compuesto):\n",
        "    '''\n",
        "    El compuesto debe estar separado por elementos con espacios para que el parser de REGEX pueda interpretar el compuesto.\n",
        "    Por ejemplo, para la fórmula química de la glucosa sería ```materia.umacompuesto('C6 H12 O 6')```.\n",
        "\n",
        "    Este método igual puede devolver la UMA de solo un elemento: ```materia.umacompuesto(C)```.\n",
        "\n",
        "    Ejemplo:\n",
        "\n",
        "    ```python\n",
        "    from libs import materia\n",
        "\n",
        "    materia.umacompuesto('H2 O')\n",
        "    ```\n",
        "\n",
        "    Regresa:\n",
        "\n",
        "    ```python\n",
        "    18.015\n",
        "    ```\n",
        "\n",
        "    Para un elemento individual:\n",
        "\n",
        "    ```python\n",
        "    materia.umacompuesto('O')\n",
        "    ```\n",
        "\n",
        "    Regresa:\n",
        "\n",
        "    ```python\n",
        "    15.999\n",
        "    ```\n",
        "    '''\n",
        "    div = _cosplit(compuesto) # Se apoya de la función _cosplit() para separar el compuesto en elementos\n",
        "    acumcomp = 0\n",
        "    # En la siguiente cadena de ifs se va a catalogar el tipo de compuesto y se harán los cálculos acorde\n",
        "    for j in range(len(div)):\n",
        "        for n in range(len(div[j])):\n",
        "            if len(div[j]) == 3:\n",
        "                aucompa = _umaelemento(str(div[j][1]))\n",
        "                compa = aucompa * int(div[j][2])* int(div[j][0])\n",
        "                acumcomp += int(compa)\n",
        "                break\n",
        "            \n",
        "            elif len(div[j])==1:\n",
        "                aucompb = _umaelemento(str(div[j][0]))\n",
        "                acumcomp += aucompb\n",
        "                break\n",
        "            \n",
        "            elif len(div[j]) == 2 and type(_intconv(div[j][1])==int):\n",
        "                aucompc = _umaelemento(str(div[j][0]))\n",
        "                compc = aucompc * int(div[j][1])\n",
        "                acumcomp += compc\n",
        "                break\n",
        "\n",
        "            elif len(div[j]) == 2 and (type(_intconv(div[j][0]))== int):\n",
        "                aucompd = _umaelemento(str(div[j][1]))\n",
        "                compd = aucompd * int(div[j][0])\n",
        "\n",
        "                acumcomp += compd\n",
        "                break\n",
        "    return acumcomp # Devuelve el valor\n"
      ],
      "execution_count": null,
      "outputs": []
    },
    {
      "cell_type": "code",
      "metadata": {
        "id": "6XNC2dIy69i5"
      },
      "source": [
        "# Obtiene la uma percentual\n",
        "def umapercentual(compuesto):\n",
        "    '''\n",
        "    Este método regresa la composición percentual de la UMA de un elemento o compuesto.\n",
        "    El parser es el mismo, y se debe escribir de la misma forma que el método ```umacompuesto()```.\n",
        "\n",
        "    ```python\n",
        "    from libs import materia\n",
        "\n",
        "    materia.umapercentual('H2 O')\n",
        "    ```\n",
        "\n",
        "    Regresa:\n",
        "\n",
        "    ```python\n",
        "    {'H': 11.19067443796836, 'O': 88.80932556203163}\n",
        "    ```\n",
        "\n",
        "    Funciona igual para elementos, solo que la relación siempre será 100%.\n",
        "\n",
        "    ```python\n",
        "    materia.umapercentual('O')\n",
        "    ```\n",
        "\n",
        "    Regresa:\n",
        "\n",
        "    ```python\n",
        "    {'O': 100.0}\n",
        "    ```\n",
        "    '''\n",
        "    utotal = umacompuesto(compuesto) # Se apoya de la función umacompuesto() para obtener la uma\n",
        "    div = _cosplit(compuesto) # Se apoya de la función _cosplit() para obtener el compuesto dividido\n",
        "    \n",
        "    upercentual = {}\n",
        "    # Cataloga cada elemento con sus átomos y hace los cálculos acorde\n",
        "    for j in range(len(div)):\n",
        "        for n in range(len(div[j])):\n",
        "            if len(div[j]) == 3:\n",
        "                aucompa = _umaelemento(str(div[j][1]))\n",
        "                compa = aucompa * int(div[j][2])* int(div[j][0])\n",
        "                upercentual[str(div[j][1])] = (compa/utotal)*100\n",
        "                break\n",
        "\n",
        "            \n",
        "            elif len(div[j])==1:\n",
        "                aucompb = _umaelemento(str(div[j][0]))\n",
        "                upercentual[str(div[j][0])] = (aucompb/utotal)*100\n",
        "                break\n",
        "            \n",
        "            \n",
        "            elif len(div[j]) == 2 and type(_intconv(div[j][1])==int):\n",
        "                aucompc = _umaelemento(str(div[j][0]))\n",
        "                compc = aucompc * int(div[j][1])\n",
        "                upercentual[str(div[j][0])] = (compc/utotal)*100\n",
        "                \n",
        "                break\n",
        "\n",
        "            elif len(div[j]) == 2 and (type(_intconv(div[j][0]))== int):\n",
        "                aucompd = _umaelemento(str(div[j][1]))\n",
        "                compd = aucompd * int(div[j][0])\n",
        "                upercentual[str(div[j][1])] = (compd/utotal)*100\n",
        "                break\n",
        "    return upercentual # Devuelve el valor     "
      ],
      "execution_count": null,
      "outputs": []
    },
    {
      "cell_type": "code",
      "metadata": {
        "id": "5vAYthUm69fL"
      },
      "source": [
        "# Obtiene los gramos / mol del compuesto utilizando la función de umacompuesto()\n",
        "def gmol(gramos, compuesto):\n",
        "    '''\n",
        "    Convierte gramos de un compuesto a moles. Utiliza el mismo parser y regresa un valor float.\n",
        "\n",
        "    ```python\n",
        "    from libs import materia\n",
        "\n",
        "    materia.gmol(18.01528,'H2 O') \n",
        "    ```\n",
        "\n",
        "    Regresa:\n",
        "\n",
        "    ```python\n",
        "    1.000015542603386\n",
        "    ```\n",
        "    '''\n",
        "    return gramos/umacompuesto(compuesto)"
      ],
      "execution_count": null,
      "outputs": []
    },
    {
      "cell_type": "code",
      "metadata": {
        "id": "nRGdvGJa69ax"
      },
      "source": [
        "# Obtiene los mol del compuesto utilizando la función de umacompuesto() \n",
        "def molg(moles, compuesto):\n",
        "    '''\n",
        "    Convierte moles de un compuesto a gramos. Utiliza el mismo parser y regresa un valor float.\n",
        "\n",
        "    ```python\n",
        "    materia.molg(1, 'H2 O')\n",
        "    ```\n",
        "\n",
        "    Regresa:\n",
        "\n",
        "    ```python\n",
        "    18.015\n",
        "    ```\n",
        "    '''\n",
        "    return moles * umacompuesto(compuesto)"
      ],
      "execution_count": null,
      "outputs": []
    },
    {
      "cell_type": "code",
      "metadata": {
        "id": "qTTfsa5o69XR"
      },
      "source": [
        "# Importamos la librería que usaremos\n",
        "import numpy as np"
      ],
      "execution_count": null,
      "outputs": []
    },
    {
      "cell_type": "code",
      "metadata": {
        "id": "y9gfcP-269TX"
      },
      "source": [
        "# Esta función realiza la distinción de si una solución es un ácido, neutra o base\n",
        "def _tipoPH(pH, pOH, H, OH):\n",
        "    # Se comprueba que los requerimientos se cumplan para cada uno de los casos\n",
        "    if (pH < 7 and pOH > 7) and (H > OH) == True: \n",
        "        return (\"ácido\") # Regresa el valor respectivo\n",
        "    elif pH == 7 or pOH == 7:\n",
        "        return (\"neutra\") # Regresa el valor respectivo\n",
        "    else:\n",
        "        return (\"base\") # Regresa el valor respectivo"
      ],
      "execution_count": null,
      "outputs": []
    },
    {
      "cell_type": "code",
      "metadata": {
        "id": "eWwo6sWr69PZ"
      },
      "source": [
        "# Esta función regresa la concentración de la solución\n",
        "def _getConcentracion(H, OH):\n",
        "    return (H*OH),3 # Regresa la operación"
      ],
      "execution_count": null,
      "outputs": []
    },
    {
      "cell_type": "code",
      "metadata": {
        "id": "xZHhQjNZ69K8"
      },
      "source": [
        "# Se usa esta función si lo que se tiene es el PH de la solución\n",
        "def get_pH(pH): \n",
        "    # Se usan diccionarios para guardar toda la información correspondiente \n",
        "    res = {}\n",
        "    res['pH'] = pH\n",
        "    res['pOH'] = 14 - pH\n",
        "    res['H+'] = 10**(-pH)\n",
        "    res['OH-'] = 10**(-res['pOH'])\n",
        "    res['Tipo'] = _tipoPH(res['pH'], res['pOH'],res['H+'] ,res['OH-'])\n",
        "    res['Concentración'] = _getConcentracion(res['H+'], res['OH-'])\n",
        "\n",
        "    return res # Se regresa el valor "
      ],
      "execution_count": null,
      "outputs": []
    },
    {
      "cell_type": "code",
      "metadata": {
        "id": "TUUKgOsv69Go"
      },
      "source": [
        "# Se usa esta función si lo que se tiene es el PH de la solución\n",
        "def get_pOH(pOH):\n",
        "    # Se usan diccionarios para guardar toda la información correspondiente \n",
        "    res = {}\n",
        "    res['pH'] = 14 - pOH\n",
        "    res['pOH'] = pOH\n",
        "    res['H+'] = 10**(-res['pH'])\n",
        "    res['OH-'] = 10**(-res['pOH'])\n",
        "    res['Tipo'] = _tipoPH(res['pH'], res['pOH'],res['H+'] ,res['OH-'])\n",
        "    res['Concentración'] = _getConcentracion(res['H+'], res['OH-'])\n",
        "\n",
        "    return res # Se regresa el valor "
      ],
      "execution_count": null,
      "outputs": []
    },
    {
      "cell_type": "code",
      "metadata": {
        "id": "9AY7gTDs69DA"
      },
      "source": [
        "# Se usa esta función si lo que se tiene es el PH de la solución\n",
        "def get_H(H):\n",
        "    # Se usan diccionarios para guardar toda la información correspondiente \n",
        "    res = {}\n",
        "    res['pH'] = np.log10(H)\n",
        "    res['pOH'] = 14 - res['pH']\n",
        "    res['H+'] = H\n",
        "    res['OH-'] = (1e-14) / H\n",
        "    res['Tipo'] = _tipoPH(res['pH'], res['pOH'],res['H+'] ,res['OH-'])\n",
        "    res['Concentración'] = _getConcentracion(res['H+'], res['OH-'])\n",
        "\n",
        "    return res # Se regresa el valor "
      ],
      "execution_count": null,
      "outputs": []
    },
    {
      "cell_type": "code",
      "metadata": {
        "id": "5ZoDW9dT68-0"
      },
      "source": [
        "# Se usa esta función si lo que se tiene es el PH de la solución\n",
        "def get_OH(OH):\n",
        "    # Se usan diccionarios para guardar toda la información correspondiente \n",
        "    res = {}\n",
        "    pOH = np.log10(OH) * -1\n",
        "    res['pH'] = 14 - pOH\n",
        "    res['pOH'] = np.log10(OH) * -1\n",
        "    res['H+'] = (1e-14) / OH\n",
        "    res['OH-'] = OH\n",
        "    res['Tipo'] = _tipoPH(res['pH'], res['pOH'],res['H+'] ,res['OH-'])\n",
        "    res['Concentración'] = _getConcentracion(res['H+'], res['OH-'])\n",
        "\n",
        "    return res # Se regresa el valor "
      ],
      "execution_count": null,
      "outputs": []
    },
    {
      "cell_type": "code",
      "metadata": {
        "id": "cKIvKNm17u2E"
      },
      "source": [
        "# Importamos las librerías que vamos a utilizar\n",
        "import math\n",
        "import numpy as np"
      ],
      "execution_count": null,
      "outputs": []
    },
    {
      "cell_type": "code",
      "metadata": {
        "id": "F_ySinqo7umD"
      },
      "source": [
        "# Esta función se utiliza para convertir los volumenes. \n",
        "def _convervol(v, unidadesvol):\n",
        "    if unidadesvol == 'ml': # Se convierte el volumen de mililitros a litros\n",
        "        v /= 1000\n",
        "    elif unidadesvol == 'L': # Se deja el volumen de litros\n",
        "        pass\n",
        "    elif unidadesvol == 'm3': # Se convierte el volumen de metros cúbicos a litros\n",
        "        v *= 1000\n",
        "    elif unidadesvol == 'cm3': # Se convierte el volumen de centímetros cúbicos a litros\n",
        "        v /= 1000\n",
        "\n",
        "    return v # Se regresa el valor asignado"
      ],
      "execution_count": null,
      "outputs": []
    },
    {
      "cell_type": "code",
      "metadata": {
        "id": "aUiS9oAl7uf_"
      },
      "source": [
        "# Esta función se utiliza para la conversión de presión\n",
        "def _converpres(p, unidadespres): \n",
        "    if unidadespres == 'pa': # Se convierte la presión de pascales a atmósferas\n",
        "        p /= 101, 300\n",
        "\n",
        "    elif unidadespres == 'atm': # Se deja la presión en atmósferas\n",
        "        pass\n",
        "    elif unidadespres == 'mmhg': # Se convierte la presión de milímetros de mercurio a atmósferas\n",
        "        p /= 760\n",
        "\n",
        "    return p # Se regresa el valor asignado"
      ],
      "execution_count": null,
      "outputs": []
    },
    {
      "cell_type": "code",
      "metadata": {
        "id": "zQVmPPoT7uav"
      },
      "source": [
        "# Esta función se utiliza para la conversión de temperaturas\n",
        "def _convertemp(t, unidadestemp): \n",
        "    if unidadestemp == 'C': # Se convierte la temperatura de celsius a Kelvin\n",
        "        t += 273\n",
        "    elif unidadestemp == 'F': # Se convierte la temperatura de Farenheit a Kelvin\n",
        "        t = (((t - 32) * (5 / 9)) + 273)\n",
        "    elif unidadestemp == 'k': # Se deja la temperatura en Kelvin\n",
        "        pass\n",
        "\n",
        "    return t # Se regresa el valor asignado"
      ],
      "execution_count": null,
      "outputs": []
    },
    {
      "cell_type": "code",
      "metadata": {
        "id": "u9c176uv7t1Y"
      },
      "source": [
        "# Esta función sirve para hacer asignaciones de valores que se ocuparán posteriormente\n",
        "def _cumpleBoyle(p1,p2,v1,v2):\n",
        "    p1v1 = p1 * v1\n",
        "    p2v2 = p2 * v2\n",
        "\n",
        "    return p1v1==p2v2 # Regresa un valor booleano indicando si es falso o verdadero"
      ],
      "execution_count": null,
      "outputs": []
    },
    {
      "cell_type": "code",
      "metadata": {
        "id": "u4WcGlLc68UL"
      },
      "source": [
        "# Esta función sirve para hacer asignaciones de valores que se ocuparán posteriormente\n",
        "def _cumpleLussac(p1,p2,t1,t2):\n",
        "    p1_t1 = float(p1) / float(t1)\n",
        "    p2_t2 = float(p2) / float(t2)\n",
        "\n",
        "    return p1_t1==p2_t2 # Regresa un valor booleano indicando si es falso o verdadero"
      ],
      "execution_count": null,
      "outputs": []
    },
    {
      "cell_type": "code",
      "metadata": {
        "id": "4lJWMB9j73H7"
      },
      "source": [
        "# Esta función sirve para hacer asignaciones de valores que se ocuparán posteriormente\n",
        "def _cumpleCharles(t1,t2,v1,v2):\n",
        "    v1_t1 = float(v1) / float(t1)\n",
        "    v2_t2 = float(v2) / float(t2)\n",
        "\n",
        "    return v1_t1 == v2_t2 # Regresa un valor booleano indicando si es falso o verdadero\n",
        "    "
      ],
      "execution_count": null,
      "outputs": []
    },
    {
      "cell_type": "code",
      "metadata": {
        "id": "sWHjueMx73Ci"
      },
      "source": [
        "# Esta función sirve para hacer asignaciones de valores que se ocuparán posteriormente\n",
        "def _cumpleComb(t1,t2,v1,v2,p1,p2):\n",
        "    p1v1_t1 = (float(p1) * float(v1)) / float(t1)\n",
        "    p2v2_t2 = (float(p2) * float(v2)) / float(t2)\n",
        "\n",
        "    return p1v1_t1\t== p2v2_t2 # Regresa un valor booleano indicando si es falso o verdadero"
      ],
      "execution_count": null,
      "outputs": []
    },
    {
      "cell_type": "code",
      "metadata": {
        "id": "mRvm85WK729Z"
      },
      "source": [
        "# Esta función sirve para asignar los resultados de funciones anteriores relacionado con Boyle [p1]\n",
        "def BoyleP1(v1,v2,p2, unidadesvol = 'L', unidadespres = 'atm'):\n",
        "    v1 = _convervol(v1,unidadesvol) \n",
        "    v2 = _convervol(v2,unidadesvol)\n",
        "    p2 = _converpres(p2,unidadespres)\n",
        "\n",
        "    p1 = (p2 * v2) / v1 \n",
        " \n",
        "    # Se crean los resultados y se guardan en un diccionario\n",
        "    resultado = {}\n",
        "    resultado['p1']=p1\n",
        "    resultado['CumpleLey'] = _cumpleBoyle(p1,p2,v1,v2)\n",
        "\n",
        "    return resultado # Regresa el resultado"
      ],
      "execution_count": null,
      "outputs": []
    },
    {
      "cell_type": "code",
      "metadata": {
        "id": "1HJgpn6i724_"
      },
      "source": [
        "# Esta función sirve para asginar los resultado de funciones anteriores relacionado con Boyle [p2]\n",
        "def BoyleP2(v1,v2,p1, unidadesvol = 'L', unidadespres = 'atm'):\n",
        "    v1 = _convervol(v1,unidadesvol)\n",
        "    v2 = _convervol(v2,unidadesvol)\n",
        "    p1 = _converpres(p1,unidadespres)\n",
        "\n",
        "    p2 = (p1 * v1) / v2\n",
        "\n",
        "    # Se crean de igual forma los resultados correspondientes y se guardan en un diccionario\n",
        "    resultado = {}\n",
        "    resultado['p2']=p2\n",
        "    resultado['CumpleLey'] = _cumpleBoyle(p1,p2,v1,v2)\n",
        "\n",
        "    return resultado # Regresa el resultado"
      ],
      "execution_count": null,
      "outputs": []
    },
    {
      "cell_type": "code",
      "metadata": {
        "id": "-D-y73qi72z5"
      },
      "source": [
        "# Esta funcion sirve para asignar los resultados de funciones anteriores relacionado con Boyle [v1]\n",
        "def BoyleV1(v2,p1,p2, unidadesvol = 'L', unidadespres = 'atm'):\n",
        "    p1 = _converpres(p1,unidadespres)\n",
        "    p2 = _converpres(p2,unidadespres)\n",
        "    v2 = _convervol(v2,unidadesvol)\n",
        "\n",
        "    v1 = (p2 * v2) / p1\n",
        "\n",
        "    # Se crean los resultados y se guardan en un diccionario\n",
        "    resultado = {}\n",
        "    resultado['v1']=v1\n",
        "    resultado['CumpleLey'] = _cumpleBoyle(p1,p2,v1,v2)\n",
        "\n",
        "    return resultado # Se regresa el resultado"
      ],
      "execution_count": null,
      "outputs": []
    },
    {
      "cell_type": "code",
      "metadata": {
        "id": "0ILj3gl-72ir"
      },
      "source": [
        "# Esta funcion sirve para asignar los resultados de funciones anteriores relacionado con Boyle[v2]\n",
        "def BoyleV2(v1,p1,p2, unidadesvol = 'L', unidadespres = 'atm'):\n",
        "    v1 = _convervol(v1,unidadesvol)\n",
        "    p1 = _converpres(p1,unidadespres)\n",
        "    p2 = _converpres(p2,unidadespres)\n",
        "\n",
        "    v2 = (p1 * v1) / p2\n",
        "\n",
        "    # Se crean los resultados y se guardan en un diccionario\n",
        "    resultado = {}\n",
        "    resultado['v2']=v2\n",
        "    resultado['CumpleLey'] = _cumpleBoyle(p1,p2,v1,v2)\n",
        "\n",
        "    return resultado # Se regresa el resultado"
      ],
      "execution_count": null,
      "outputs": []
    },
    {
      "cell_type": "code",
      "metadata": {
        "id": "amwysawI8EaG"
      },
      "source": [
        "# Esta función sirve para asginar los resultado de funciones anteriores relacionado con Lussac [p1]\n",
        "def LussacP1(t1,t2,p2, unidadespres = 'atm', unidadestemp = 'k'):\n",
        "    t1 = _convertemp(t1,unidadestemp)\n",
        "    t1 = _convertemp(t1,unidadestemp)\n",
        "    p2 = _converpres(p2,unidadespres)\n",
        "\n",
        "    p1 = (p2 / t2) * t1\n",
        "\n",
        "    # Se crean los resultados y se guardan en un diccionario\n",
        "    resultado = {}\n",
        "    resultado['p1']=p1\n",
        "    resultado['CumpleLey'] = _cumpleLussac(p1,p2,t1,t2)\n",
        "\n",
        "    return resultado # Se regresa el resultado\n"
      ],
      "execution_count": null,
      "outputs": []
    },
    {
      "cell_type": "code",
      "metadata": {
        "id": "0sbdjQQF8EUW"
      },
      "source": [
        "# Esta función sirve para asignar los resultados de funciones anteriores relacionado con Lussac [p2]\n",
        "def LussacP2(t1,t2,p1, unidadespres = 'atm', unidadestemp = 'k'):\n",
        "    t1 = _convertemp(t1,unidadestemp)\n",
        "    t1 = _convertemp(t1,unidadestemp)\n",
        "    p1 = _converpres(p1,unidadespres)\n",
        "\n",
        "    p2 = (p1 * t2) / t1\n",
        "\n",
        "    # Se crean los resultados y se guardan en un diccionario\n",
        "    resultado = {}\n",
        "    resultado['p2']=p2\n",
        "    resultado['CumpleLey'] = _cumpleLussac(p1,p2,t1,t2)\n",
        "\n",
        "    return resultado # Se regresa el resultado"
      ],
      "execution_count": null,
      "outputs": []
    },
    {
      "cell_type": "code",
      "metadata": {
        "id": "aoPEYEuN8EN1"
      },
      "source": [
        "# Esta función sirve para asginar los resultados de funciones anteriores relacionado con Lussac [t1]\n",
        "def LussacT1(t2,p1,p2, unidadespres = 'atm', unidadestemp = 'k'):\n",
        "    t2 = _convertemp(t2,unidadestemp)\n",
        "    p1 = _converpres(p1,unidadespres)\n",
        "    p2 = _converpres(p2,unidadespres)\n",
        "\n",
        "    t1 = (p1 * t2) / p2\n",
        "\n",
        "    # Se crean los resultados y se guardan en un diccionario\n",
        "    resultado = {}\n",
        "    resultado['t1']=t1\n",
        "    resultado['CumpleLey'] = _cumpleLussac(p1,p2,t1,t2)\n",
        "\n",
        "    return resultado # Se regresa el resultado"
      ],
      "execution_count": null,
      "outputs": []
    },
    {
      "cell_type": "code",
      "metadata": {
        "id": "UY1dxPPy8EHb"
      },
      "source": [
        "# Esta función sirve para asignar los resultados de funciones anteriores relacionado con Lussac [t2]\n",
        "def LussacT2(t1,p1,p2, unidadespres = 'atm', unidadestemp = 'k'):\n",
        "    t1 = _convertemp(t1,unidadestemp)\n",
        "    p1 = _converpres(p1,unidadespres)\n",
        "    p2 = _converpres(p2,unidadespres)\n",
        "\n",
        "    t2 = (p2 * t1) / p1\n",
        "\n",
        "    # Se crean los resultados y se guardan en un diccionario\n",
        "    resultado = {}\n",
        "    resultado['t2']=t2\n",
        "    resultado['CumpleLey'] = _cumpleLussac(p1,p2,t1,t2)\n",
        "\n",
        "    return resultado # Se regresa el resultado"
      ],
      "execution_count": null,
      "outputs": []
    },
    {
      "cell_type": "code",
      "metadata": {
        "id": "ISnEqV6y8EBq"
      },
      "source": [
        "# Esta función sirve para asignar los resultados de funciones anteriores relacionado con Charles [v1]\n",
        "def CharlesV1(t1,t2,v2, unidadesvol = 'L', unidadestemp = 'k'):\n",
        "    t1 = _convertemp(t1,unidadestemp)\n",
        "    t2 = _convertemp(t2,unidadestemp)\n",
        "    v2 = _convervol(v2, unidadesvol)\n",
        "\n",
        "    v1 = (v2 / t2) * t1\n",
        "\n",
        "    # Se crean los resultados y se guardan en un diccionario\n",
        "    resultado = {}\n",
        "    resultado['v1']=v1\n",
        "    resultado['CumpleLey'] = _cumpleCharles(t1,t2,v1,v2)\n",
        "\n",
        "    return resultado # Se regresa el resultado\n"
      ],
      "execution_count": null,
      "outputs": []
    },
    {
      "cell_type": "code",
      "metadata": {
        "id": "w3HTTW-a8D7s"
      },
      "source": [
        "# Esta función sirve para asignar los resultados de funciones anteriores relacionado con Charles [v2]\n",
        "def CharlesV2(t1,t2,v1, unidadesvol = 'L', unidadestemp = 'k'):\n",
        "    t1 = _convertemp(t1,unidadestemp)\n",
        "    t2 = _convertemp(t2,unidadestemp)\n",
        "    v1 = _convervol(v2, unidadesvol)\n",
        "\n",
        "    v2 = (v1 * t2) / t1\n",
        "\n",
        "    # Se crean los resultados y se guardan en un diccionario\n",
        "    resultado = {}\n",
        "    resultado['v2']=v2\n",
        "    resultado['CumpleLey'] = _cumpleCharles(t1,t2,v1,v2)\n",
        "\n",
        "    return resultado # Se regresa el resultado"
      ],
      "execution_count": null,
      "outputs": []
    },
    {
      "cell_type": "code",
      "metadata": {
        "id": "-OjZuASz8LyA"
      },
      "source": [
        "# Esta función sirve para asignar los resultado de funciones anteriores relacionado con Charles [t1]\n",
        "def CharlesT1(t2,v1,v2, unidadesvol = 'L', unidadestemp = 'k'):\n",
        "    t2 = _convertemp(t2,unidadestemp)\n",
        "    v1 = _convervol(v1,unidadesvol)\n",
        "    v2 = _convervol(v2, unidadesvol)\n",
        "\n",
        "    t1 = (v1 * t2) / v2\n",
        "\n",
        "    # Se crean los resultados y se guardan en un diccionario\n",
        "    resultado = {}\n",
        "    resultado['t1']=t1\n",
        "    resultado['CumpleLey'] = _cumpleCharles(t1,t2,v1,v2)\n",
        "\n",
        "    return resultado # Se regresa el resultado"
      ],
      "execution_count": null,
      "outputs": []
    },
    {
      "cell_type": "code",
      "metadata": {
        "id": "FVbUa1Bf8Lqw"
      },
      "source": [
        "# Esta función sirve para asignar los resultados de funciones anteriores relacionado con Charles [t2]\n",
        "def CharlesT2(t1,t2,v2, unidadesvol = 'L', unidadestemp = 'k'):\n",
        "    t1 = _convertemp(t1,unidadestemp)\n",
        "    v1 = _convervol(v1,unidadesvol)\n",
        "    v2 = _convervol(v2, unidadesvol)\n",
        "\n",
        "    t2 = (v2 * t1) / v1\n",
        "\n",
        "    # Se crean los resultados y se guardan en un diccionario \n",
        "    resultado = {}\n",
        "    resultado['t2']=t2\n",
        "    resultado['CumpleLey'] = _cumpleCharles(t1,t2,v1,v2)\n",
        "\n",
        "    return resultado # Se regresa el resultado"
      ],
      "execution_count": null,
      "outputs": []
    },
    {
      "cell_type": "code",
      "metadata": {
        "id": "vY48qV0r8DVf"
      },
      "source": [
        "# Esta función sirve para asignar los resultados de funciones anteriores relacionado con LeyComb [p1]\n",
        "def LeyCombP1(t1,t2,v1,v2,p2, unidadesvol = 'L', unidadestemp = 'k', unidadespres = 'atm'):\n",
        "    t1 = _convertemp(t1,unidadestemp)\n",
        "    t2 = _convertemp(t2,unidadestemp)\n",
        "    v1 = _convervol(v1,unidadesvol)\n",
        "    v2 = _convervol(v2, unidadesvol)\n",
        "    p2 = _converpres(p2,unidadespres)\n",
        "\n",
        "    p1 = ((p2 * v2 * t1) / (t2 * v1))\n",
        "    \n",
        "    # Se crean los resultados y se guardan en un diccionario\n",
        "    resultado = {}\n",
        "    resultado['p1'] = p1\n",
        "    resultado['CumpleLey'] = _cumpleComb(t1,t2,v1,v2,p1,p2)\n",
        "\n",
        "    return resultado # Se regresa el resultado\n"
      ],
      "execution_count": null,
      "outputs": []
    },
    {
      "cell_type": "code",
      "metadata": {
        "id": "4GwrwAvC8QnI"
      },
      "source": [
        "# Esta función sirve para asignar los resultados de funciones anteriores relacionado con LeyComb [p2]\n",
        "def LeyCombP2(t1,t2,v1,v2,p1, unidadesvol = 'L', unidadestemp = 'k', unidadespres = 'atm'):\n",
        "    t1 = _convertemp(t1,unidadestemp)\n",
        "    t2 = _convertemp(t2,unidadestemp)\n",
        "    v1 = _convervol(v1,unidadesvol)\n",
        "    v2 = _convervol(v2, unidadesvol)\n",
        "    p1 = _converpres(p1,unidadespres)\n",
        "\n",
        "    p2 = (p1 * v1 * t2) / (t1 * v2)\n",
        "\n",
        "    # Se crean los resultados y se guardan en un diccionario\n",
        "    resultado = {}\n",
        "    resultado['p2'] = p2\n",
        "    resultado['CumpleLey'] = _cumpleComb(t1,t2,v1,v2,p1,p2)\n",
        "\n",
        "    return resultado # Se regresa el resultado"
      ],
      "execution_count": null,
      "outputs": []
    },
    {
      "cell_type": "code",
      "metadata": {
        "id": "eb4_yUk38Qik"
      },
      "source": [
        "# Esta función sirve para asignar los resultados de funciones anteriores relacionado con LeyComb [v1]\n",
        "def LeyCombV1(t1,t2,v2,p1,p2, unidadesvol = 'L', unidadestemp = 'k', unidadespres = 'atm'):\n",
        "    t1 = _convertemp(t1,unidadestemp)\n",
        "    t2 = _convertemp(t2,unidadestemp)\n",
        "    v2 = _convervol(v2, unidadesvol)\n",
        "    p1 = _converpres(p1,unidadespres)\n",
        "    p2 = _converpres(p2,unidadespres)\n",
        "\n",
        "    v1 = (p2 * v2 * t1) / (p1 * t2)\n",
        "\n",
        "    # Se crean los resultados y se guardan en un diccionario\n",
        "    resultado = {}\n",
        "    resultado['v1'] = v1\n",
        "    resultado['CumpleLey'] = _cumpleComb(t1,t2,v1,v2,p1,p2)\n",
        "\n",
        "    return resultado # Se regresa el resultado"
      ],
      "execution_count": null,
      "outputs": []
    },
    {
      "cell_type": "code",
      "metadata": {
        "id": "93HqgcIN8QVv"
      },
      "source": [
        "# Esta función sirve para asignar los resultados de funciones anteriores relacionado con LeyComb [v2]\n",
        "def LeyCombV2(t1,t2,v1,p1,p2, unidadesvol = 'L', unidadestemp = 'k', unidadespres = 'atm'):\n",
        "    t1 = _convertemp(t1,unidadestemp)\n",
        "    t2 = _convertemp(t2,unidadestemp)\n",
        "    v1 = _convervol(v1, unidadesvol)\n",
        "    p1 = _converpres(p1,unidadespres)\n",
        "    p2 = _converpres(p2,unidadespres)\n",
        "\n",
        "    v2 = (p1 * v1 * t2) / (t1 * p2)\n",
        "\n",
        "    # Se crean los resultados y se guardan en un diccionario\n",
        "    resultado = {}\n",
        "    resultado['v2'] = v2\n",
        "    resultado['CumpleLey'] = _cumpleComb(t1,t2,v1,v2,p1,p2)\n",
        "\n",
        "    return resultado # Se regresa el resultado"
      ],
      "execution_count": null,
      "outputs": []
    },
    {
      "cell_type": "code",
      "metadata": {
        "id": "4e-4cehK8PvV"
      },
      "source": [
        "# Esta función sirve para asignar los resultados de funciones anteriores relacionado con LeyComb [t1]\n",
        "def LeyCombT1(t2,v1,v2,p1,p2, unidadesvol = 'L', unidadestemp = 'k', unidadespres = 'atm'):\n",
        "    t2 = _convertemp(t2,unidadestemp)\n",
        "    v1 = _convervol(v1, unidadesvol)\n",
        "    v2 = _convervol(v2, unidadesvol)\n",
        "    p1 = _converpres(p1,unidadespres)\n",
        "    p2 = _converpres(p2,unidadespres)\n",
        "\n",
        "    t1 = (p1 * v1 * t2) / (p2 * v2)\n",
        "    # Se crean los resultados y se guardan en un diccionario\n",
        "    resultado = {}\n",
        "    resultado['t1'] = t1\n",
        "    resultado['CumpleLey'] = _cumpleComb(t1,t2,v1,v2,p1,p2)\n",
        "\n",
        "    return resultado # Se regresa el resultado"
      ],
      "execution_count": null,
      "outputs": []
    },
    {
      "cell_type": "code",
      "metadata": {
        "id": "MTcqw4i060HF"
      },
      "source": [
        "# Esta función sirve para asignar los resultados de funciones anteriores relacionado con LeyComb [t2]\n",
        "def LeyCombT2(t2,v1,v2,p1,p2, unidadesvol = 'L', unidadestemp = 'k', unidadespres = 'atm'):\n",
        "    t1 = _convertemp(t1,unidadestemp)\n",
        "    v1 = _convervol(v1, unidadesvol)\n",
        "    v2 = _convervol(v2, unidadesvol)\n",
        "    p1 = _converpres(p1,unidadespres)\n",
        "    p2 = _converpres(p2,unidadespres)\n",
        "\n",
        "    t2 = (p2 * v2 * t1) / (p1 * v1)\n",
        "\n",
        "    # Se crean los resultado y se guardan en un diccionario \n",
        "    resultado = {}\n",
        "    resultado['t2'] = t2\n",
        "    resultado['CumpleLey'] = _cumpleComb(t1,t2,v1,v2,p1,p2)\n",
        "\n",
        "    return resultado # Se regresa el resultado"
      ],
      "execution_count": null,
      "outputs": []
    },
    {
      "cell_type": "code",
      "execution_count": null,
      "metadata": {},
      "outputs": [],
      "source": [
        "from libs import materia\n",
        "from libs import elementos\n",
        "\n",
        "print(materia._umaelemento('He'))\n",
        "\n",
        "print(materia.umacompuesto('H2 O'))\n",
        "\n",
        "print(elementos.He.getElemento())"
      ]
    },
    {
      "cell_type": "code",
      "execution_count": null,
      "metadata": {},
      "outputs": [],
      "source": [
        "from libs import materia\n",
        "from libs import elementos\n",
        "\n",
        "##############ELEMENTOS#########################################\n",
        "\n",
        "# print(elementos.He.nombre)\n",
        "\n",
        "# elementos.imprimirTabla()\n",
        "#################MATERIA#########################\n",
        "\n",
        "# print(materia._umaelemento('He'))\n",
        "\n",
        "# print(materia.umacompuesto('H2 O'))\n",
        "\n",
        "# print(materia.umapercentual('H2 O'))\n",
        "\n",
        "# print(materia.umapercentual('O'))\n",
        "\n",
        "# print(materia.gmol(18.01528,'H2 O'))\n",
        "# print(materia.molg(1, 'H2 O'))\n",
        "\n",
        "###############gases#######################\n",
        "\n",
        "from libs import gases\n",
        "\n",
        "\n",
        "#print(gases.BoyleP2(1.5,3,2.5))\n",
        "#print(gases.BoyleV2(4.2,760,415,unidadespres = \"mmhg\"))\n",
        "#print(gases.BoyleV1(3.4,5,2.5))\n",
        "#print(gases.LussacT2(25, 970, 760, unidadespres = 'mmhg', unidadestemp = 'C'))\n",
        "\n",
        "\n",
        "\n",
        "#print(gases.LussacP2(45, 125, 460, unidadespres = 'mmhg', unidadestemp = 'C'))\n",
        "print(gases._convervol(1000,'ml'))\n"
      ]
    }
  ]
}